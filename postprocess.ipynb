{
 "cells": [
  {
   "cell_type": "markdown",
   "metadata": {},
   "source": [
    "# Postprocessing"
   ]
  },
  {
   "attachments": {},
   "cell_type": "markdown",
   "metadata": {},
   "source": [
    "This is the postprocessing notebook. Below you will find \"default\" values ​​for the config and an explanation of the meaning of each parameter. What you need to change is the word (or number) between the colon and comma. The word before the colon should NOT be changed, as it is the folder name."
   ]
  },
  {
   "attachments": {},
   "cell_type": "markdown",
   "metadata": {},
   "source": [
    "#### Default parameters"
   ]
  },
  {
   "cell_type": "markdown",
   "metadata": {},
   "source": [
    "config_postproc = {'out_preprocessed_npy':'out_preprocessed_npy',  \n",
    "'out_pred_npy': 'out_pred_npy',  \n",
    "'out_postproc': 'out_postproc_png',  \n",
    "'out_postproc_npy': 'out_postproc_npy',  \n",
    "'out_eroded_png': 'out_eroded_png',  \n",
    "'m_area_trsh': 400,  \n",
    "'m_intensity_trsh': 0.1,  \n",
    "'n_area_trsh': 50,  \n",
    "'round_n_trsh': 0.1,  \n",
    "'n_erosion': 4,  \n",
    "}"
   ]
  },
  {
   "attachments": {},
   "cell_type": "markdown",
   "metadata": {},
   "source": [
    "**Configure parameters for post-processing**"
   ]
  },
  {
   "cell_type": "code",
   "execution_count": null,
   "metadata": {},
   "outputs": [],
   "source": [
    "config_postproc = {'out_preprocessed_npy':'out_preprocessed_npy',\n",
    "'out_pred_npy': 'out_pred_npy',\n",
    "'out_postproc': 'out_postproc_png',\n",
    "'out_postproc_npy': 'out_postproc_npy',\n",
    "'out_eroded_png': 'out_eroded_png',\n",
    "'m_area_trsh': 400,\n",
    "'m_intensity_trsh': 0.1,\n",
    "'n_area_trsh': 50,\n",
    "'round_n_trsh': 0.1,\n",
    "'n_erosion': 0,\n",
    "}"
   ]
  },
  {
   "attachments": {},
   "cell_type": "markdown",
   "metadata": {},
   "source": [
    "**Run the next cell to start the post-processing**"
   ]
  },
  {
   "cell_type": "code",
   "execution_count": null,
   "metadata": {},
   "outputs": [],
   "source": [
    "from post_proc import *\n",
    "post_proc_save(config_postproc, verbose=0)"
   ]
  },
  {
   "attachments": {},
   "cell_type": "markdown",
   "metadata": {},
   "source": [
    "**Run the next cell to run the erosion**"
   ]
  },
  {
   "cell_type": "code",
   "execution_count": null,
   "metadata": {},
   "outputs": [],
   "source": [
    "cell_counts = erode_images(config=config_postproc)"
   ]
  },
  {
   "attachments": {},
   "cell_type": "markdown",
   "metadata": {},
   "source": [
    "Now the variable *cell_counts* contains the number of found cells for each input image"
   ]
  },
  {
   "cell_type": "code",
   "execution_count": null,
   "metadata": {},
   "outputs": [],
   "source": [
    "print(cell_counts)"
   ]
  },
  {
   "attachments": {},
   "cell_type": "markdown",
   "metadata": {},
   "source": [
    "This list is automatically saved as a dictionary in a file called *eroded_cell_count.txt*"
   ]
  }
 ],
 "metadata": {
  "kernelspec": {
   "display_name": "Python 3.10.8 ('tf28')",
   "language": "python",
   "name": "python3"
  },
  "language_info": {
   "codemirror_mode": {
    "name": "ipython",
    "version": 3
   },
   "file_extension": ".py",
   "mimetype": "text/x-python",
   "name": "python",
   "nbconvert_exporter": "python",
   "pygments_lexer": "ipython3",
   "version": "3.10.8"
  },
  "orig_nbformat": 4,
  "vscode": {
   "interpreter": {
    "hash": "9db6a12be94f7c16a9bb88b96d5b3e0befe83d83ca4ead934f3c0d95a43df7d5"
   }
  }
 },
 "nbformat": 4,
 "nbformat_minor": 2
}
