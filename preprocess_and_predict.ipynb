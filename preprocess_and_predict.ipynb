{
 "cells": [
  {
   "attachments": {},
   "cell_type": "markdown",
   "metadata": {},
   "source": [
    "# Preprocess and predict"
   ]
  },
  {
   "attachments": {},
   "cell_type": "markdown",
   "metadata": {},
   "source": [
    "This is the notebook for preprocessing and prediction. You can change the Neural Network used buy specifying a different path for *model_dir*."
   ]
  },
  {
   "cell_type": "code",
   "execution_count": null,
   "metadata": {},
   "outputs": [],
   "source": [
    "config = {'input_dir': 'input_images',\n",
    "'out_preprocessed_npy': 'out_preprocessed_npy',\n",
    "'out_preprocessed_png': 'out_preprocessed_png',\n",
    "'out_pred_npy':'out_pred_npy', \n",
    "'out_pred_png':'out_pred_png',\n",
    "'model_dir':'models/best-dcunet.h5',\n",
    "'tile_size': 256,\n",
    "'verbose': 0} "
   ]
  },
  {
   "attachments": {},
   "cell_type": "markdown",
   "metadata": {},
   "source": [
    "**Run the next cell to start the pre-processing and prediction**"
   ]
  },
  {
   "cell_type": "code",
   "execution_count": null,
   "metadata": {},
   "outputs": [],
   "source": [
    "from preprocess import *\n",
    "preproc_predict(config=config)"
   ]
  }
 ],
 "metadata": {
  "kernelspec": {
   "display_name": "Python 3.10.8 ('tf28')",
   "language": "python",
   "name": "python3"
  },
  "language_info": {
   "codemirror_mode": {
    "name": "ipython",
    "version": 3
   },
   "file_extension": ".py",
   "mimetype": "text/x-python",
   "name": "python",
   "nbconvert_exporter": "python",
   "pygments_lexer": "ipython3",
   "version": "3.10.8 (tags/v3.10.8:aaaf517, Oct 11 2022, 16:50:30) [MSC v.1933 64 bit (AMD64)]"
  },
  "orig_nbformat": 4,
  "vscode": {
   "interpreter": {
    "hash": "9db6a12be94f7c16a9bb88b96d5b3e0befe83d83ca4ead934f3c0d95a43df7d5"
   }
  }
 },
 "nbformat": 4,
 "nbformat_minor": 2
}
